{
  "nbformat": 4,
  "nbformat_minor": 0,
  "metadata": {
    "colab": {
      "provenance": [],
      "collapsed_sections": [],
      "authorship_tag": "ABX9TyOyeDcaYE260WaSiiMpDWp7",
      "include_colab_link": true
    },
    "kernelspec": {
      "name": "python3",
      "display_name": "Python 3"
    },
    "language_info": {
      "name": "python"
    },
    "widgets": {
      "application/vnd.jupyter.widget-state+json": {
        "418f72eaa35548348a2f62b03d4e8843": {
          "model_module": "@jupyter-widgets/controls",
          "model_name": "VBoxModel",
          "model_module_version": "1.5.0",
          "state": {
            "_dom_classes": [],
            "_model_module": "@jupyter-widgets/controls",
            "_model_module_version": "1.5.0",
            "_model_name": "VBoxModel",
            "_view_count": null,
            "_view_module": "@jupyter-widgets/controls",
            "_view_module_version": "1.5.0",
            "_view_name": "VBoxView",
            "box_style": "",
            "children": [
              "IPY_MODEL_f4adb8e1c91f4844987330ed71e07ee1",
              "IPY_MODEL_fd6d0be19dd348bfb91022f182606963",
              "IPY_MODEL_71685de57c844798b6dc01367b0150f4",
              "IPY_MODEL_eda1e7d15fe946b795b9550fab3f2c2a"
            ],
            "layout": "IPY_MODEL_f5dda12134ca48a3ad9fd9d02b8b43a8"
          }
        },
        "f4adb8e1c91f4844987330ed71e07ee1": {
          "model_module": "@jupyter-widgets/controls",
          "model_name": "HTMLModel",
          "model_module_version": "1.5.0",
          "state": {
            "_dom_classes": [],
            "_model_module": "@jupyter-widgets/controls",
            "_model_module_version": "1.5.0",
            "_model_name": "HTMLModel",
            "_view_count": null,
            "_view_module": "@jupyter-widgets/controls",
            "_view_module_version": "1.5.0",
            "_view_name": "HTMLView",
            "description": "",
            "description_tooltip": null,
            "layout": "IPY_MODEL_174a79f345b64cd4bdcd962d19da994b",
            "placeholder": "​",
            "style": "IPY_MODEL_613d2bc6819343c58a034f630b1960bb",
            "value": "<center> <img\nsrc=https://huggingface.co/front/assets/huggingface_logo-noborder.svg\nalt='Hugging Face'> <br> Copy a token from <a\nhref=\"https://huggingface.co/settings/tokens\" target=\"_blank\">your Hugging Face\ntokens page</a> and paste it below. <br> Immediately click login after copying\nyour token or it might be stored in plain text in this notebook file. </center>"
          }
        },
        "fd6d0be19dd348bfb91022f182606963": {
          "model_module": "@jupyter-widgets/controls",
          "model_name": "PasswordModel",
          "model_module_version": "1.5.0",
          "state": {
            "_dom_classes": [],
            "_model_module": "@jupyter-widgets/controls",
            "_model_module_version": "1.5.0",
            "_model_name": "PasswordModel",
            "_view_count": null,
            "_view_module": "@jupyter-widgets/controls",
            "_view_module_version": "1.5.0",
            "_view_name": "PasswordView",
            "continuous_update": true,
            "description": "Token:",
            "description_tooltip": null,
            "disabled": false,
            "layout": "IPY_MODEL_8303cfae9c3d4404bb2b523fed06c7fa",
            "placeholder": "​",
            "style": "IPY_MODEL_5f5d306e88bf40c89e8897c22a77fc51",
            "value": ""
          }
        },
        "71685de57c844798b6dc01367b0150f4": {
          "model_module": "@jupyter-widgets/controls",
          "model_name": "ButtonModel",
          "model_module_version": "1.5.0",
          "state": {
            "_dom_classes": [],
            "_model_module": "@jupyter-widgets/controls",
            "_model_module_version": "1.5.0",
            "_model_name": "ButtonModel",
            "_view_count": null,
            "_view_module": "@jupyter-widgets/controls",
            "_view_module_version": "1.5.0",
            "_view_name": "ButtonView",
            "button_style": "",
            "description": "Login",
            "disabled": false,
            "icon": "",
            "layout": "IPY_MODEL_ae692541681d4fe29f1fcb9395c8bd19",
            "style": "IPY_MODEL_e841776346ac4e9b8800248342f6d909",
            "tooltip": ""
          }
        },
        "eda1e7d15fe946b795b9550fab3f2c2a": {
          "model_module": "@jupyter-widgets/controls",
          "model_name": "HTMLModel",
          "model_module_version": "1.5.0",
          "state": {
            "_dom_classes": [],
            "_model_module": "@jupyter-widgets/controls",
            "_model_module_version": "1.5.0",
            "_model_name": "HTMLModel",
            "_view_count": null,
            "_view_module": "@jupyter-widgets/controls",
            "_view_module_version": "1.5.0",
            "_view_name": "HTMLView",
            "description": "",
            "description_tooltip": null,
            "layout": "IPY_MODEL_41bfd8bcc20947b98cc3eeb125cfe16c",
            "placeholder": "​",
            "style": "IPY_MODEL_ccb510aa1652421ebf276ef0e9ea439f",
            "value": "\n<b>Pro Tip:</b> If you don't already have one, you can create a dedicated\n'notebooks' token with 'write' access, that you can then easily reuse for all\nnotebooks. </center>"
          }
        },
        "f5dda12134ca48a3ad9fd9d02b8b43a8": {
          "model_module": "@jupyter-widgets/base",
          "model_name": "LayoutModel",
          "model_module_version": "1.2.0",
          "state": {
            "_model_module": "@jupyter-widgets/base",
            "_model_module_version": "1.2.0",
            "_model_name": "LayoutModel",
            "_view_count": null,
            "_view_module": "@jupyter-widgets/base",
            "_view_module_version": "1.2.0",
            "_view_name": "LayoutView",
            "align_content": null,
            "align_items": "center",
            "align_self": null,
            "border": null,
            "bottom": null,
            "display": "flex",
            "flex": null,
            "flex_flow": "column",
            "grid_area": null,
            "grid_auto_columns": null,
            "grid_auto_flow": null,
            "grid_auto_rows": null,
            "grid_column": null,
            "grid_gap": null,
            "grid_row": null,
            "grid_template_areas": null,
            "grid_template_columns": null,
            "grid_template_rows": null,
            "height": null,
            "justify_content": null,
            "justify_items": null,
            "left": null,
            "margin": null,
            "max_height": null,
            "max_width": null,
            "min_height": null,
            "min_width": null,
            "object_fit": null,
            "object_position": null,
            "order": null,
            "overflow": null,
            "overflow_x": null,
            "overflow_y": null,
            "padding": null,
            "right": null,
            "top": null,
            "visibility": null,
            "width": "50%"
          }
        },
        "174a79f345b64cd4bdcd962d19da994b": {
          "model_module": "@jupyter-widgets/base",
          "model_name": "LayoutModel",
          "model_module_version": "1.2.0",
          "state": {
            "_model_module": "@jupyter-widgets/base",
            "_model_module_version": "1.2.0",
            "_model_name": "LayoutModel",
            "_view_count": null,
            "_view_module": "@jupyter-widgets/base",
            "_view_module_version": "1.2.0",
            "_view_name": "LayoutView",
            "align_content": null,
            "align_items": null,
            "align_self": null,
            "border": null,
            "bottom": null,
            "display": null,
            "flex": null,
            "flex_flow": null,
            "grid_area": null,
            "grid_auto_columns": null,
            "grid_auto_flow": null,
            "grid_auto_rows": null,
            "grid_column": null,
            "grid_gap": null,
            "grid_row": null,
            "grid_template_areas": null,
            "grid_template_columns": null,
            "grid_template_rows": null,
            "height": null,
            "justify_content": null,
            "justify_items": null,
            "left": null,
            "margin": null,
            "max_height": null,
            "max_width": null,
            "min_height": null,
            "min_width": null,
            "object_fit": null,
            "object_position": null,
            "order": null,
            "overflow": null,
            "overflow_x": null,
            "overflow_y": null,
            "padding": null,
            "right": null,
            "top": null,
            "visibility": null,
            "width": null
          }
        },
        "613d2bc6819343c58a034f630b1960bb": {
          "model_module": "@jupyter-widgets/controls",
          "model_name": "DescriptionStyleModel",
          "model_module_version": "1.5.0",
          "state": {
            "_model_module": "@jupyter-widgets/controls",
            "_model_module_version": "1.5.0",
            "_model_name": "DescriptionStyleModel",
            "_view_count": null,
            "_view_module": "@jupyter-widgets/base",
            "_view_module_version": "1.2.0",
            "_view_name": "StyleView",
            "description_width": ""
          }
        },
        "8303cfae9c3d4404bb2b523fed06c7fa": {
          "model_module": "@jupyter-widgets/base",
          "model_name": "LayoutModel",
          "model_module_version": "1.2.0",
          "state": {
            "_model_module": "@jupyter-widgets/base",
            "_model_module_version": "1.2.0",
            "_model_name": "LayoutModel",
            "_view_count": null,
            "_view_module": "@jupyter-widgets/base",
            "_view_module_version": "1.2.0",
            "_view_name": "LayoutView",
            "align_content": null,
            "align_items": null,
            "align_self": null,
            "border": null,
            "bottom": null,
            "display": null,
            "flex": null,
            "flex_flow": null,
            "grid_area": null,
            "grid_auto_columns": null,
            "grid_auto_flow": null,
            "grid_auto_rows": null,
            "grid_column": null,
            "grid_gap": null,
            "grid_row": null,
            "grid_template_areas": null,
            "grid_template_columns": null,
            "grid_template_rows": null,
            "height": null,
            "justify_content": null,
            "justify_items": null,
            "left": null,
            "margin": null,
            "max_height": null,
            "max_width": null,
            "min_height": null,
            "min_width": null,
            "object_fit": null,
            "object_position": null,
            "order": null,
            "overflow": null,
            "overflow_x": null,
            "overflow_y": null,
            "padding": null,
            "right": null,
            "top": null,
            "visibility": null,
            "width": null
          }
        },
        "5f5d306e88bf40c89e8897c22a77fc51": {
          "model_module": "@jupyter-widgets/controls",
          "model_name": "DescriptionStyleModel",
          "model_module_version": "1.5.0",
          "state": {
            "_model_module": "@jupyter-widgets/controls",
            "_model_module_version": "1.5.0",
            "_model_name": "DescriptionStyleModel",
            "_view_count": null,
            "_view_module": "@jupyter-widgets/base",
            "_view_module_version": "1.2.0",
            "_view_name": "StyleView",
            "description_width": ""
          }
        },
        "ae692541681d4fe29f1fcb9395c8bd19": {
          "model_module": "@jupyter-widgets/base",
          "model_name": "LayoutModel",
          "model_module_version": "1.2.0",
          "state": {
            "_model_module": "@jupyter-widgets/base",
            "_model_module_version": "1.2.0",
            "_model_name": "LayoutModel",
            "_view_count": null,
            "_view_module": "@jupyter-widgets/base",
            "_view_module_version": "1.2.0",
            "_view_name": "LayoutView",
            "align_content": null,
            "align_items": null,
            "align_self": null,
            "border": null,
            "bottom": null,
            "display": null,
            "flex": null,
            "flex_flow": null,
            "grid_area": null,
            "grid_auto_columns": null,
            "grid_auto_flow": null,
            "grid_auto_rows": null,
            "grid_column": null,
            "grid_gap": null,
            "grid_row": null,
            "grid_template_areas": null,
            "grid_template_columns": null,
            "grid_template_rows": null,
            "height": null,
            "justify_content": null,
            "justify_items": null,
            "left": null,
            "margin": null,
            "max_height": null,
            "max_width": null,
            "min_height": null,
            "min_width": null,
            "object_fit": null,
            "object_position": null,
            "order": null,
            "overflow": null,
            "overflow_x": null,
            "overflow_y": null,
            "padding": null,
            "right": null,
            "top": null,
            "visibility": null,
            "width": null
          }
        },
        "e841776346ac4e9b8800248342f6d909": {
          "model_module": "@jupyter-widgets/controls",
          "model_name": "ButtonStyleModel",
          "model_module_version": "1.5.0",
          "state": {
            "_model_module": "@jupyter-widgets/controls",
            "_model_module_version": "1.5.0",
            "_model_name": "ButtonStyleModel",
            "_view_count": null,
            "_view_module": "@jupyter-widgets/base",
            "_view_module_version": "1.2.0",
            "_view_name": "StyleView",
            "button_color": null,
            "font_weight": ""
          }
        },
        "41bfd8bcc20947b98cc3eeb125cfe16c": {
          "model_module": "@jupyter-widgets/base",
          "model_name": "LayoutModel",
          "model_module_version": "1.2.0",
          "state": {
            "_model_module": "@jupyter-widgets/base",
            "_model_module_version": "1.2.0",
            "_model_name": "LayoutModel",
            "_view_count": null,
            "_view_module": "@jupyter-widgets/base",
            "_view_module_version": "1.2.0",
            "_view_name": "LayoutView",
            "align_content": null,
            "align_items": null,
            "align_self": null,
            "border": null,
            "bottom": null,
            "display": null,
            "flex": null,
            "flex_flow": null,
            "grid_area": null,
            "grid_auto_columns": null,
            "grid_auto_flow": null,
            "grid_auto_rows": null,
            "grid_column": null,
            "grid_gap": null,
            "grid_row": null,
            "grid_template_areas": null,
            "grid_template_columns": null,
            "grid_template_rows": null,
            "height": null,
            "justify_content": null,
            "justify_items": null,
            "left": null,
            "margin": null,
            "max_height": null,
            "max_width": null,
            "min_height": null,
            "min_width": null,
            "object_fit": null,
            "object_position": null,
            "order": null,
            "overflow": null,
            "overflow_x": null,
            "overflow_y": null,
            "padding": null,
            "right": null,
            "top": null,
            "visibility": null,
            "width": null
          }
        },
        "ccb510aa1652421ebf276ef0e9ea439f": {
          "model_module": "@jupyter-widgets/controls",
          "model_name": "DescriptionStyleModel",
          "model_module_version": "1.5.0",
          "state": {
            "_model_module": "@jupyter-widgets/controls",
            "_model_module_version": "1.5.0",
            "_model_name": "DescriptionStyleModel",
            "_view_count": null,
            "_view_module": "@jupyter-widgets/base",
            "_view_module_version": "1.2.0",
            "_view_name": "StyleView",
            "description_width": ""
          }
        }
      }
    }
  },
  "cells": [
    {
      "cell_type": "markdown",
      "metadata": {
        "id": "view-in-github",
        "colab_type": "text"
      },
      "source": [
        "<a href=\"https://colab.research.google.com/github/iLab-DSU/Imarika_Voice_Analytics/blob/main/STT_using_CTC.ipynb\" target=\"_parent\"><img src=\"https://colab.research.google.com/assets/colab-badge.svg\" alt=\"Open In Colab\"/></a>"
      ]
    },
    {
      "cell_type": "markdown",
      "source": [
        "## Speech to Text using CTC"
      ],
      "metadata": {
        "id": "YZd1xyLMsvTm"
      }
    },
    {
      "cell_type": "markdown",
      "source": [
        "### Introduction \n",
        "- Making use of RNN, 2D CNN and Connectionist Temporal Classification loss to build a STT model\n",
        "- CTC is used to train deep neural networks in speech recog, handwriting recog, etc.\n",
        "- We will use the Common Voice dataset from [here](https://commonvoice.mozilla.org/sw/datasets).\n",
        "- The quality of the model will be evaluated using Word Error Rate(WER). \n",
        "\n"
      ],
      "metadata": {
        "id": "kh76WoiIphp-"
      }
    },
    {
      "cell_type": "markdown",
      "source": [
        "### Library Installations"
      ],
      "metadata": {
        "id": "h85vmEQ1sMaj"
      }
    },
    {
      "cell_type": "code",
      "source": [
        "pip install huggingface_hub"
      ],
      "metadata": {
        "colab": {
          "base_uri": "https://localhost:8080/"
        },
        "id": "mAOQESTfsQ0u",
        "outputId": "b40a9e30-ae52-4064-d644-d93d1aa56c4f"
      },
      "execution_count": 1,
      "outputs": [
        {
          "output_type": "stream",
          "name": "stdout",
          "text": [
            "Looking in indexes: https://pypi.org/simple, https://us-python.pkg.dev/colab-wheels/public/simple/\n",
            "Requirement already satisfied: huggingface_hub in /usr/local/lib/python3.7/dist-packages (0.10.1)\n",
            "Requirement already satisfied: pyyaml>=5.1 in /usr/local/lib/python3.7/dist-packages (from huggingface_hub) (6.0)\n",
            "Requirement already satisfied: filelock in /usr/local/lib/python3.7/dist-packages (from huggingface_hub) (3.8.0)\n",
            "Requirement already satisfied: requests in /usr/local/lib/python3.7/dist-packages (from huggingface_hub) (2.23.0)\n",
            "Requirement already satisfied: packaging>=20.9 in /usr/local/lib/python3.7/dist-packages (from huggingface_hub) (21.3)\n",
            "Requirement already satisfied: tqdm in /usr/local/lib/python3.7/dist-packages (from huggingface_hub) (4.64.1)\n",
            "Requirement already satisfied: typing-extensions>=3.7.4.3 in /usr/local/lib/python3.7/dist-packages (from huggingface_hub) (4.1.1)\n",
            "Requirement already satisfied: importlib-metadata in /usr/local/lib/python3.7/dist-packages (from huggingface_hub) (4.13.0)\n",
            "Requirement already satisfied: pyparsing!=3.0.5,>=2.0.2 in /usr/local/lib/python3.7/dist-packages (from packaging>=20.9->huggingface_hub) (3.0.9)\n",
            "Requirement already satisfied: zipp>=0.5 in /usr/local/lib/python3.7/dist-packages (from importlib-metadata->huggingface_hub) (3.10.0)\n",
            "Requirement already satisfied: idna<3,>=2.5 in /usr/local/lib/python3.7/dist-packages (from requests->huggingface_hub) (2.10)\n",
            "Requirement already satisfied: certifi>=2017.4.17 in /usr/local/lib/python3.7/dist-packages (from requests->huggingface_hub) (2022.9.24)\n",
            "Requirement already satisfied: urllib3!=1.25.0,!=1.25.1,<1.26,>=1.21.1 in /usr/local/lib/python3.7/dist-packages (from requests->huggingface_hub) (1.25.11)\n",
            "Requirement already satisfied: chardet<4,>=3.0.2 in /usr/local/lib/python3.7/dist-packages (from requests->huggingface_hub) (3.0.4)\n"
          ]
        }
      ]
    },
    {
      "cell_type": "code",
      "source": [
        "pip install -U datasets"
      ],
      "metadata": {
        "colab": {
          "base_uri": "https://localhost:8080/"
        },
        "id": "ohxbNMFHyS0y",
        "outputId": "cfa9aa9a-e91d-4c68-b80d-ecd693786808"
      },
      "execution_count": 2,
      "outputs": [
        {
          "output_type": "stream",
          "name": "stdout",
          "text": [
            "Looking in indexes: https://pypi.org/simple, https://us-python.pkg.dev/colab-wheels/public/simple/\n",
            "Requirement already satisfied: datasets in /usr/local/lib/python3.7/dist-packages (2.6.1)\n",
            "Requirement already satisfied: xxhash in /usr/local/lib/python3.7/dist-packages (from datasets) (3.1.0)\n",
            "Requirement already satisfied: aiohttp in /usr/local/lib/python3.7/dist-packages (from datasets) (3.8.3)\n",
            "Requirement already satisfied: huggingface-hub<1.0.0,>=0.2.0 in /usr/local/lib/python3.7/dist-packages (from datasets) (0.10.1)\n",
            "Requirement already satisfied: fsspec[http]>=2021.11.1 in /usr/local/lib/python3.7/dist-packages (from datasets) (2022.10.0)\n",
            "Requirement already satisfied: responses<0.19 in /usr/local/lib/python3.7/dist-packages (from datasets) (0.18.0)\n",
            "Requirement already satisfied: dill<0.3.6 in /usr/local/lib/python3.7/dist-packages (from datasets) (0.3.5.1)\n",
            "Requirement already satisfied: packaging in /usr/local/lib/python3.7/dist-packages (from datasets) (21.3)\n",
            "Requirement already satisfied: requests>=2.19.0 in /usr/local/lib/python3.7/dist-packages (from datasets) (2.23.0)\n",
            "Requirement already satisfied: pandas in /usr/local/lib/python3.7/dist-packages (from datasets) (1.3.5)\n",
            "Requirement already satisfied: pyyaml>=5.1 in /usr/local/lib/python3.7/dist-packages (from datasets) (6.0)\n",
            "Requirement already satisfied: importlib-metadata in /usr/local/lib/python3.7/dist-packages (from datasets) (4.13.0)\n",
            "Requirement already satisfied: multiprocess in /usr/local/lib/python3.7/dist-packages (from datasets) (0.70.13)\n",
            "Requirement already satisfied: tqdm>=4.62.1 in /usr/local/lib/python3.7/dist-packages (from datasets) (4.64.1)\n",
            "Requirement already satisfied: numpy>=1.17 in /usr/local/lib/python3.7/dist-packages (from datasets) (1.21.6)\n",
            "Requirement already satisfied: pyarrow>=6.0.0 in /usr/local/lib/python3.7/dist-packages (from datasets) (6.0.1)\n",
            "Requirement already satisfied: multidict<7.0,>=4.5 in /usr/local/lib/python3.7/dist-packages (from aiohttp->datasets) (6.0.2)\n",
            "Requirement already satisfied: asynctest==0.13.0 in /usr/local/lib/python3.7/dist-packages (from aiohttp->datasets) (0.13.0)\n",
            "Requirement already satisfied: charset-normalizer<3.0,>=2.0 in /usr/local/lib/python3.7/dist-packages (from aiohttp->datasets) (2.1.1)\n",
            "Requirement already satisfied: yarl<2.0,>=1.0 in /usr/local/lib/python3.7/dist-packages (from aiohttp->datasets) (1.8.1)\n",
            "Requirement already satisfied: attrs>=17.3.0 in /usr/local/lib/python3.7/dist-packages (from aiohttp->datasets) (22.1.0)\n",
            "Requirement already satisfied: aiosignal>=1.1.2 in /usr/local/lib/python3.7/dist-packages (from aiohttp->datasets) (1.2.0)\n",
            "Requirement already satisfied: async-timeout<5.0,>=4.0.0a3 in /usr/local/lib/python3.7/dist-packages (from aiohttp->datasets) (4.0.2)\n",
            "Requirement already satisfied: typing-extensions>=3.7.4 in /usr/local/lib/python3.7/dist-packages (from aiohttp->datasets) (4.1.1)\n",
            "Requirement already satisfied: frozenlist>=1.1.1 in /usr/local/lib/python3.7/dist-packages (from aiohttp->datasets) (1.3.1)\n",
            "Requirement already satisfied: filelock in /usr/local/lib/python3.7/dist-packages (from huggingface-hub<1.0.0,>=0.2.0->datasets) (3.8.0)\n",
            "Requirement already satisfied: pyparsing!=3.0.5,>=2.0.2 in /usr/local/lib/python3.7/dist-packages (from packaging->datasets) (3.0.9)\n",
            "Requirement already satisfied: urllib3!=1.25.0,!=1.25.1,<1.26,>=1.21.1 in /usr/local/lib/python3.7/dist-packages (from requests>=2.19.0->datasets) (1.25.11)\n",
            "Requirement already satisfied: idna<3,>=2.5 in /usr/local/lib/python3.7/dist-packages (from requests>=2.19.0->datasets) (2.10)\n",
            "Requirement already satisfied: chardet<4,>=3.0.2 in /usr/local/lib/python3.7/dist-packages (from requests>=2.19.0->datasets) (3.0.4)\n",
            "Requirement already satisfied: certifi>=2017.4.17 in /usr/local/lib/python3.7/dist-packages (from requests>=2.19.0->datasets) (2022.9.24)\n",
            "Requirement already satisfied: zipp>=0.5 in /usr/local/lib/python3.7/dist-packages (from importlib-metadata->datasets) (3.10.0)\n",
            "Requirement already satisfied: python-dateutil>=2.7.3 in /usr/local/lib/python3.7/dist-packages (from pandas->datasets) (2.8.2)\n",
            "Requirement already satisfied: pytz>=2017.3 in /usr/local/lib/python3.7/dist-packages (from pandas->datasets) (2022.5)\n",
            "Requirement already satisfied: six>=1.5 in /usr/local/lib/python3.7/dist-packages (from python-dateutil>=2.7.3->pandas->datasets) (1.15.0)\n"
          ]
        }
      ]
    },
    {
      "cell_type": "markdown",
      "source": [
        "### Setup Required Libraries"
      ],
      "metadata": {
        "id": "XU_ApZFFsGL9"
      }
    },
    {
      "cell_type": "code",
      "source": [
        "import pandas as pd\n",
        "import numpy as np\n",
        "import tensorflow as tf\n",
        "import matplotlib.pyplot as plt\n",
        "\n",
        "from tensorflow import keras\n",
        "from tensorflow.keras import layers\n"
      ],
      "metadata": {
        "id": "XZo0qhJusC6f"
      },
      "execution_count": 29,
      "outputs": []
    },
    {
      "cell_type": "markdown",
      "source": [
        "### Data Pipeline"
      ],
      "metadata": {
        "id": "UiDGdon3sU47"
      }
    },
    {
      "cell_type": "code",
      "source": [
        "# Login huggingface\n",
        "\n",
        "\n",
        "from huggingface_hub import notebook_login\n",
        "notebook_login()"
      ],
      "metadata": {
        "colab": {
          "base_uri": "https://localhost:8080/",
          "height": 411,
          "referenced_widgets": [
            "418f72eaa35548348a2f62b03d4e8843",
            "f4adb8e1c91f4844987330ed71e07ee1",
            "fd6d0be19dd348bfb91022f182606963",
            "71685de57c844798b6dc01367b0150f4",
            "eda1e7d15fe946b795b9550fab3f2c2a",
            "f5dda12134ca48a3ad9fd9d02b8b43a8",
            "174a79f345b64cd4bdcd962d19da994b",
            "613d2bc6819343c58a034f630b1960bb",
            "8303cfae9c3d4404bb2b523fed06c7fa",
            "5f5d306e88bf40c89e8897c22a77fc51",
            "ae692541681d4fe29f1fcb9395c8bd19",
            "e841776346ac4e9b8800248342f6d909",
            "41bfd8bcc20947b98cc3eeb125cfe16c",
            "ccb510aa1652421ebf276ef0e9ea439f"
          ]
        },
        "id": "RnvGBtRzs-U_",
        "outputId": "5c3fa7ca-eff2-43ea-f70b-c4d16f675ecb"
      },
      "execution_count": 4,
      "outputs": [
        {
          "output_type": "stream",
          "name": "stdout",
          "text": [
            "Login successful\n",
            "Your token has been saved to /root/.huggingface/token\n"
          ]
        }
      ]
    },
    {
      "cell_type": "code",
      "source": [
        "# Download the dataset from huggingface\n",
        "\n",
        "from datasets import load_dataset, load_metric, Audio\n",
        "\n",
        "common_voice_train = load_dataset(\"mozilla-foundation/common_voice_8_0\", 'sw', split='train+validation', use_auth_token=True)\n",
        "common_voice_test = load_dataset(\"mozilla-foundation/common_voice_8_0\", 'sw', split='test', use_auth_token=True)"
      ],
      "metadata": {
        "colab": {
          "base_uri": "https://localhost:8080/"
        },
        "id": "LUnbV2Xzx1S4",
        "outputId": "4d482504-d427-413b-da75-c4c61592bec8"
      },
      "execution_count": 5,
      "outputs": [
        {
          "output_type": "stream",
          "name": "stderr",
          "text": [
            "WARNING:datasets.builder:Found cached dataset common_voice_8_0 (/root/.cache/huggingface/datasets/mozilla-foundation___common_voice_8_0/sw/8.0.0/b2f8b72f8f30b2e98c41ccf855954d9e35a5fa498c43332df198534ff9797a4a)\n",
            "WARNING:datasets.builder:Found cached dataset common_voice_8_0 (/root/.cache/huggingface/datasets/mozilla-foundation___common_voice_8_0/sw/8.0.0/b2f8b72f8f30b2e98c41ccf855954d9e35a5fa498c43332df198534ff9797a4a)\n"
          ]
        }
      ]
    },
    {
      "cell_type": "code",
      "source": [
        "common_voice_train = common_voice_train.remove_columns([\"accent\", \"age\", \"down_votes\", \"gender\", \"locale\", \"segment\", \"up_votes\"])\n",
        "common_voice_test = common_voice_test.remove_columns([\"accent\", \"age\", \"down_votes\", \"gender\", \"locale\", \"segment\", \"up_votes\"])"
      ],
      "metadata": {
        "id": "NtXCnk7zy2vr"
      },
      "execution_count": 6,
      "outputs": []
    },
    {
      "cell_type": "code",
      "source": [
        "common_voice_train"
      ],
      "metadata": {
        "colab": {
          "base_uri": "https://localhost:8080/"
        },
        "id": "iR3rUtXxzkN8",
        "outputId": "57a9c879-82ed-4729-940f-171a7323fa48"
      },
      "execution_count": 7,
      "outputs": [
        {
          "output_type": "execute_result",
          "data": {
            "text/plain": [
              "Dataset({\n",
              "    features: ['client_id', 'path', 'audio', 'sentence'],\n",
              "    num_rows: 28411\n",
              "})"
            ]
          },
          "metadata": {},
          "execution_count": 7
        }
      ]
    },
    {
      "cell_type": "code",
      "source": [
        "from datasets import ClassLabel\n",
        "import random\n",
        "import pandas as pd\n",
        "from IPython.display import display, HTML\n",
        "\n",
        "\n",
        "def display_random_elements(dataset, num_examples=10):\n",
        "  assert num_examples <= len(dataset) # Can't pick more than there is in the dataset\n",
        "  picks = []\n",
        "  for _ in range(num_examples):\n",
        "      pick = random.randint(0, len(dataset)-1)\n",
        "      while pick in picks:\n",
        "        pick = random.randint(0, len(dataset)-1)\n",
        "      picks.append(pick)\n",
        "\n",
        "  \n",
        "  df = pd.DataFrame(dataset[picks])\n",
        "  display(HTML(df.to_html()))"
      ],
      "metadata": {
        "id": "OW8d_GaGzmv9"
      },
      "execution_count": 8,
      "outputs": []
    },
    {
      "cell_type": "code",
      "source": [
        "import re\n",
        "characters_to_ignore = '[\\,\\?\\.\\!\\-\\;\\:\\\"\\“\\%\\‘\\”\\�]'\n",
        "\n",
        "def remove_special_chars(batch):\n",
        "  batch['sentence']=re.sub(characters_to_ignore, '', batch['sentence']).lower() + \" \"\n",
        "  return batch"
      ],
      "metadata": {
        "id": "RW2MWruyzrqA"
      },
      "execution_count": 9,
      "outputs": []
    },
    {
      "cell_type": "code",
      "source": [
        "common_voice_train = common_voice_train.map(remove_special_chars)\n",
        "common_voice_test = common_voice_test.map(remove_special_chars)"
      ],
      "metadata": {
        "colab": {
          "base_uri": "https://localhost:8080/"
        },
        "id": "tsav16wD_zEI",
        "outputId": "58c42c52-d228-401a-eca6-cdeaa5fbef2b"
      },
      "execution_count": 10,
      "outputs": [
        {
          "output_type": "stream",
          "name": "stderr",
          "text": [
            "WARNING:datasets.arrow_dataset:Loading cached processed dataset at /root/.cache/huggingface/datasets/mozilla-foundation___common_voice_8_0/sw/8.0.0/b2f8b72f8f30b2e98c41ccf855954d9e35a5fa498c43332df198534ff9797a4a/cache-7e915750e326938e.arrow\n",
            "WARNING:datasets.arrow_dataset:Loading cached processed dataset at /root/.cache/huggingface/datasets/mozilla-foundation___common_voice_8_0/sw/8.0.0/b2f8b72f8f30b2e98c41ccf855954d9e35a5fa498c43332df198534ff9797a4a/cache-08321083268550de.arrow\n"
          ]
        }
      ]
    },
    {
      "cell_type": "code",
      "source": [
        "display_random_elements(common_voice_train.remove_columns(['client_id']))"
      ],
      "metadata": {
        "colab": {
          "base_uri": "https://localhost:8080/",
          "height": 1000
        },
        "id": "SBw9AnVk_0aN",
        "outputId": "246f81d1-1be5-43e2-d02a-1206c144821d"
      },
      "execution_count": 11,
      "outputs": [
        {
          "output_type": "stream",
          "name": "stderr",
          "text": [
            "/usr/local/lib/python3.7/dist-packages/datasets/features/audio.py:310: UserWarning: Decoding mp3 with `librosa` instead of `torchaudio`, decoding is slow.\n",
            "  warnings.warn(\"Decoding mp3 with `librosa` instead of `torchaudio`, decoding is slow.\")\n",
            "/usr/local/lib/python3.7/dist-packages/librosa/core/audio.py:165: UserWarning: PySoundFile failed. Trying audioread instead.\n",
            "  warnings.warn(\"PySoundFile failed. Trying audioread instead.\")\n",
            "/usr/local/lib/python3.7/dist-packages/datasets/features/audio.py:310: UserWarning: Decoding mp3 with `librosa` instead of `torchaudio`, decoding is slow.\n",
            "  warnings.warn(\"Decoding mp3 with `librosa` instead of `torchaudio`, decoding is slow.\")\n",
            "/usr/local/lib/python3.7/dist-packages/librosa/core/audio.py:165: UserWarning: PySoundFile failed. Trying audioread instead.\n",
            "  warnings.warn(\"PySoundFile failed. Trying audioread instead.\")\n",
            "/usr/local/lib/python3.7/dist-packages/datasets/features/audio.py:310: UserWarning: Decoding mp3 with `librosa` instead of `torchaudio`, decoding is slow.\n",
            "  warnings.warn(\"Decoding mp3 with `librosa` instead of `torchaudio`, decoding is slow.\")\n",
            "/usr/local/lib/python3.7/dist-packages/librosa/core/audio.py:165: UserWarning: PySoundFile failed. Trying audioread instead.\n",
            "  warnings.warn(\"PySoundFile failed. Trying audioread instead.\")\n",
            "/usr/local/lib/python3.7/dist-packages/datasets/features/audio.py:310: UserWarning: Decoding mp3 with `librosa` instead of `torchaudio`, decoding is slow.\n",
            "  warnings.warn(\"Decoding mp3 with `librosa` instead of `torchaudio`, decoding is slow.\")\n",
            "/usr/local/lib/python3.7/dist-packages/librosa/core/audio.py:165: UserWarning: PySoundFile failed. Trying audioread instead.\n",
            "  warnings.warn(\"PySoundFile failed. Trying audioread instead.\")\n",
            "/usr/local/lib/python3.7/dist-packages/datasets/features/audio.py:310: UserWarning: Decoding mp3 with `librosa` instead of `torchaudio`, decoding is slow.\n",
            "  warnings.warn(\"Decoding mp3 with `librosa` instead of `torchaudio`, decoding is slow.\")\n",
            "/usr/local/lib/python3.7/dist-packages/librosa/core/audio.py:165: UserWarning: PySoundFile failed. Trying audioread instead.\n",
            "  warnings.warn(\"PySoundFile failed. Trying audioread instead.\")\n",
            "/usr/local/lib/python3.7/dist-packages/datasets/features/audio.py:310: UserWarning: Decoding mp3 with `librosa` instead of `torchaudio`, decoding is slow.\n",
            "  warnings.warn(\"Decoding mp3 with `librosa` instead of `torchaudio`, decoding is slow.\")\n",
            "/usr/local/lib/python3.7/dist-packages/librosa/core/audio.py:165: UserWarning: PySoundFile failed. Trying audioread instead.\n",
            "  warnings.warn(\"PySoundFile failed. Trying audioread instead.\")\n",
            "/usr/local/lib/python3.7/dist-packages/datasets/features/audio.py:310: UserWarning: Decoding mp3 with `librosa` instead of `torchaudio`, decoding is slow.\n",
            "  warnings.warn(\"Decoding mp3 with `librosa` instead of `torchaudio`, decoding is slow.\")\n",
            "/usr/local/lib/python3.7/dist-packages/librosa/core/audio.py:165: UserWarning: PySoundFile failed. Trying audioread instead.\n",
            "  warnings.warn(\"PySoundFile failed. Trying audioread instead.\")\n",
            "/usr/local/lib/python3.7/dist-packages/datasets/features/audio.py:310: UserWarning: Decoding mp3 with `librosa` instead of `torchaudio`, decoding is slow.\n",
            "  warnings.warn(\"Decoding mp3 with `librosa` instead of `torchaudio`, decoding is slow.\")\n",
            "/usr/local/lib/python3.7/dist-packages/librosa/core/audio.py:165: UserWarning: PySoundFile failed. Trying audioread instead.\n",
            "  warnings.warn(\"PySoundFile failed. Trying audioread instead.\")\n",
            "/usr/local/lib/python3.7/dist-packages/datasets/features/audio.py:310: UserWarning: Decoding mp3 with `librosa` instead of `torchaudio`, decoding is slow.\n",
            "  warnings.warn(\"Decoding mp3 with `librosa` instead of `torchaudio`, decoding is slow.\")\n",
            "/usr/local/lib/python3.7/dist-packages/librosa/core/audio.py:165: UserWarning: PySoundFile failed. Trying audioread instead.\n",
            "  warnings.warn(\"PySoundFile failed. Trying audioread instead.\")\n",
            "/usr/local/lib/python3.7/dist-packages/datasets/features/audio.py:310: UserWarning: Decoding mp3 with `librosa` instead of `torchaudio`, decoding is slow.\n",
            "  warnings.warn(\"Decoding mp3 with `librosa` instead of `torchaudio`, decoding is slow.\")\n",
            "/usr/local/lib/python3.7/dist-packages/librosa/core/audio.py:165: UserWarning: PySoundFile failed. Trying audioread instead.\n",
            "  warnings.warn(\"PySoundFile failed. Trying audioread instead.\")\n"
          ]
        },
        {
          "output_type": "display_data",
          "data": {
            "text/plain": [
              "<IPython.core.display.HTML object>"
            ],
            "text/html": [
              "<table border=\"1\" class=\"dataframe\">\n",
              "  <thead>\n",
              "    <tr style=\"text-align: right;\">\n",
              "      <th></th>\n",
              "      <th>path</th>\n",
              "      <th>audio</th>\n",
              "      <th>sentence</th>\n",
              "    </tr>\n",
              "  </thead>\n",
              "  <tbody>\n",
              "    <tr>\n",
              "      <th>0</th>\n",
              "      <td>/root/.cache/huggingface/datasets/downloads/extracted/53d30892a707d521ef30c6c48f4ea9f8232daea92c37971ac64fb135aa3d6acf/cv-corpus-8.0-2022-01-19/sw/clips/common_voice_sw_29840493.mp3</td>\n",
              "      <td>{'path': '/root/.cache/huggingface/datasets/downloads/extracted/53d30892a707d521ef30c6c48f4ea9f8232daea92c37971ac64fb135aa3d6acf/cv-corpus-8.0-2022-01-19/sw/clips/common_voice_sw_29840493.mp3', 'array': [-2.1230822e-08, 1.3050334e-08, 1.8151752e-08, -3.176808e-08, 1.0266302e-09, 4.0967482e-08, -3.344724e-08, -2.7060414e-08, 6.4254635e-08, -1.5188792e-08, -7.025631e-08, 7.359241e-08, 3.2043463e-08, -1.1722196e-07, 4.985759e-08, 1.0798698e-07, -1.4449782e-07, -2.3347907e-08, 1.9598754e-07, -1.2040503e-07, -1.4873558e-07, 2.600356e-07, -1.5707004e-08, -3.0456735e-07, 2.495301e-07, 1.8083888e-07, -4.3919104e-07, 1.1285589e-07, 4.4688537e-07, -4.7487205e-07, -1.8313725e-07, 7.166971e-07, -3.2071117e-07, -6.3443616e-07, 8.798609e-07, 1.13132046e-07, -1.1901271e-06, 7.802035e-07, 9.2296324e-07, -1.7577239e-06, 1.666664e-07, 2.3301855e-06, -2.224334e-06, -1.754231e-06, 5.764305e-06, -2.4878939e-06, -2.3877134e-05, -2.3877134e-05, -2.4878939e-06, 5.764305e-06, -1.754231e-06, -2.224334e-06, 2.3301855e-06, 1.666664e-07, -1.7577239e-06, 9.2296324e-07, 7.802035e-07, -1.1901271e-06, 1.13132046e-07, 8.798609e-07, -6.3443616e-07, -3.2071117e-07, 7.166971e-07, -1.8313725e-07, -4.7487205e-07, 4.4688537e-07, 1.1285589e-07, -4.3919104e-07, 1.8083888e-07, 2.495301e-07, -3.0456735e-07, -1.5707004e-08, 2.600356e-07, -1.4873558e-07, -1.2040503e-07, 1.9598754e-07, -2.3347907e-08, -1.4449782e-07, 1.0798698e-07, 4.985759e-08, -1.1722196e-07, 3.2043463e-08, 7.359241e-08, -7.025631e-08, -1.5188792e-08, 6.4254635e-08, -2.7060414e-08, -3.344724e-08, 4.0967482e-08, 1.0266302e-09, -3.176808e-08, 1.8151752e-08, 1.3050334e-08, -2.1230822e-08, 2.865725e-09, 1.3874331e-08, -1.0184482e-08, -4.067796e-09, 9.61578e-09, -2.662255e-09, ...], 'sampling_rate': 48000}</td>\n",
              "      <td>walikuja kufanya biashara na wenyeji wa bara la afrika</td>\n",
              "    </tr>\n",
              "    <tr>\n",
              "      <th>1</th>\n",
              "      <td>/root/.cache/huggingface/datasets/downloads/extracted/53d30892a707d521ef30c6c48f4ea9f8232daea92c37971ac64fb135aa3d6acf/cv-corpus-8.0-2022-01-19/sw/clips/common_voice_sw_29972797.mp3</td>\n",
              "      <td>{'path': '/root/.cache/huggingface/datasets/downloads/extracted/53d30892a707d521ef30c6c48f4ea9f8232daea92c37971ac64fb135aa3d6acf/cv-corpus-8.0-2022-01-19/sw/clips/common_voice_sw_29972797.mp3', 'array': [0.0, 0.0, 0.0, 0.0, 0.0, 0.0, 0.0, 0.0, 0.0, 0.0, 0.0, 0.0, 0.0, 0.0, 0.0, 0.0, 0.0, 0.0, 0.0, 0.0, 0.0, 0.0, 0.0, 0.0, 0.0, 0.0, 0.0, 0.0, 0.0, 0.0, 0.0, 0.0, 0.0, 0.0, 0.0, 0.0, 0.0, 0.0, 0.0, 0.0, 0.0, 0.0, 0.0, 0.0, 0.0, 0.0, 0.0, 0.0, 0.0, 0.0, 0.0, 0.0, 0.0, 0.0, 0.0, 0.0, 0.0, 0.0, 0.0, 0.0, 0.0, 0.0, 0.0, 0.0, 0.0, 0.0, 0.0, 0.0, 0.0, 0.0, 0.0, 0.0, 0.0, 0.0, 0.0, 0.0, 0.0, 0.0, 0.0, 0.0, 0.0, 0.0, 0.0, 0.0, 0.0, 0.0, 0.0, 0.0, 0.0, 0.0, 0.0, 0.0, 0.0, 0.0, 0.0, 0.0, 0.0, 0.0, 0.0, 0.0, ...], 'sampling_rate': 48000}</td>\n",
              "      <td>magonjwa yanayotibika na yasiyotibika kama kansa ukimwi na kifua kikuu</td>\n",
              "    </tr>\n",
              "    <tr>\n",
              "      <th>2</th>\n",
              "      <td>/root/.cache/huggingface/datasets/downloads/extracted/53d30892a707d521ef30c6c48f4ea9f8232daea92c37971ac64fb135aa3d6acf/cv-corpus-8.0-2022-01-19/sw/clips/common_voice_sw_29995022.mp3</td>\n",
              "      <td>{'path': '/root/.cache/huggingface/datasets/downloads/extracted/53d30892a707d521ef30c6c48f4ea9f8232daea92c37971ac64fb135aa3d6acf/cv-corpus-8.0-2022-01-19/sw/clips/common_voice_sw_29995022.mp3', 'array': [-2.1230822e-08, 1.3050334e-08, 1.8151752e-08, -3.176808e-08, 1.0266302e-09, 4.0967482e-08, -3.344724e-08, -2.7060414e-08, 6.4254635e-08, -1.5188792e-08, -7.025631e-08, 7.359241e-08, 3.204123e-08, -1.1724493e-07, 4.9890982e-08, 1.080117e-07, -1.446032e-07, -2.3279101e-08, 1.961598e-07, -1.207209e-07, -1.4876133e-07, 2.6065558e-07, -1.6247341e-08, -3.051596e-07, 2.5100297e-07, 1.8050027e-07, -4.4130857e-07, 1.1527466e-07, 4.4811716e-07, -4.797041e-07, -1.8086668e-07, 7.2205455e-07, -3.286332e-07, -6.356494e-07, 8.9239023e-07, 1.04462785e-07, -1.2007823e-06, 8.0116746e-07, 9.2068166e-07, -1.7848425e-06, 1.9175856e-07, 2.3468083e-06, -2.271521e-06, -1.738739e-06, 5.814673e-06, -2.548329e-06, -2.3895374e-05, -2.3783994e-05, -2.5374661e-06, 5.6831764e-06, -1.6273492e-06, -2.2197905e-06, 2.1657702e-06, 2.8834012e-07, -1.6452257e-06, 6.840026e-07, 8.2392125e-07, -9.2712173e-07, -1.4247426e-07, 7.511934e-07, -2.2211182e-07, -4.773428e-07, 3.3192765e-07, 3.0033758e-07, -3.7348667e-07, -2.1767262e-07, 4.9322847e-07, 7.923276e-08, -6.7292643e-07, 2.6610468e-07, 7.2034163e-07, -8.1138325e-07, -3.8882916e-07, 1.318332e-06, -4.345436e-07, -1.385576e-06, 1.5770406e-06, 6.3427666e-07, -2.5539537e-06, 1.0914575e-06, 2.6762236e-06, -3.6716444e-06, -1.1186936e-06, 7.216706e-06, -4.5137594e-06, -2.4324961e-05, -2.0376408e-05, -4.907896e-06, 1.1271248e-06, 1.1916837e-05, 2.5739118e-05, 1.6018379e-05, -4.498431e-06, -4.1655094e-06, 4.4536155e-06, 2.819943e-07, -3.2109886e-06, 1.6317211e-06, 1.4514218e-06, -2.1164526e-06, ...], 'sampling_rate': 48000}</td>\n",
              "      <td>umaarufu mwingine wa hifadhi hii ni pamoja ya aina ya chatu</td>\n",
              "    </tr>\n",
              "    <tr>\n",
              "      <th>3</th>\n",
              "      <td>/root/.cache/huggingface/datasets/downloads/extracted/53d30892a707d521ef30c6c48f4ea9f8232daea92c37971ac64fb135aa3d6acf/cv-corpus-8.0-2022-01-19/sw/clips/common_voice_sw_28881440.mp3</td>\n",
              "      <td>{'path': '/root/.cache/huggingface/datasets/downloads/extracted/53d30892a707d521ef30c6c48f4ea9f8232daea92c37971ac64fb135aa3d6acf/cv-corpus-8.0-2022-01-19/sw/clips/common_voice_sw_28881440.mp3', 'array': [2.4325322e-08, 7.9623386e-10, -3.2954084e-08, 2.4198961e-08, 2.4746962e-08, -5.042357e-08, 6.2693815e-09, 6.024351e-08, -5.3664387e-08, -3.6279292e-08, 9.548943e-08, -2.6098215e-08, -1.0046503e-07, 1.0814086e-07, 4.4186564e-08, -1.6747754e-07, 7.06683e-08, 1.537945e-07, -2.0190127e-07, -3.7768462e-08, 2.7522452e-07, -1.5952749e-07, -2.1601329e-07, 3.55512e-07, -3.7489962e-09, -4.2851147e-07, 3.2617834e-07, 2.7429545e-07, -6.0265205e-07, 1.2277754e-07, 6.404209e-07, -6.3898307e-07, -2.9438965e-07, 1.0159225e-06, -4.280466e-07, -9.362859e-07, 1.2946294e-06, 1.532418e-07, -1.8396688e-06, 1.3754078e-06, 1.38715e-06, -3.4094612e-06, 1.1990896e-06, 5.4487355e-06, -1.274301e-05, -2.974276e-05, -1.35172495e-05, 7.005467e-06, 1.8345156e-07, -5.2950677e-06, 6.258237e-06, -4.4544868e-07, -2.5400816e-05, -2.4480047e-05, -9.750925e-07, 5.3281055e-06, -2.6934192e-06, -1.3049284e-06, 2.5446307e-06, -7.27111e-07, -1.3983309e-06, 1.4674558e-06, 1.431392e-07, -1.2836856e-06, 7.3259497e-07, 5.94997e-07, -1.0301355e-06, 1.7858713e-07, 7.9389423e-07, -7.106895e-07, -2.3379812e-07, 8.3090623e-07, -3.7061895e-07, -5.398278e-07, 7.6095455e-07, -1.561454e-08, -7.715208e-07, 5.943663e-07, 3.7615504e-07, -9.3249844e-07, 2.9476894e-07, 8.259125e-07, -9.75025e-07, -2.104367e-07, 1.3256143e-06, -7.836352e-07, -1.0293126e-06, 1.8241508e-06, -1.2196027e-07, -2.4092615e-06, 2.2361326e-06, 1.8090853e-06, -5.8058313e-06, 2.4698656e-06, 2.3919629e-05, 2.3866118e-05, 2.4620138e-06, -5.741006e-06, 1.7601917e-06, 2.2035738e-06, ...], 'sampling_rate': 48000}</td>\n",
              "      <td>nje na wilaya hizo wanaishi pia sehemu za kigoma na karagwe</td>\n",
              "    </tr>\n",
              "    <tr>\n",
              "      <th>4</th>\n",
              "      <td>/root/.cache/huggingface/datasets/downloads/extracted/53d30892a707d521ef30c6c48f4ea9f8232daea92c37971ac64fb135aa3d6acf/cv-corpus-8.0-2022-01-19/sw/clips/common_voice_sw_30068882.mp3</td>\n",
              "      <td>{'path': '/root/.cache/huggingface/datasets/downloads/extracted/53d30892a707d521ef30c6c48f4ea9f8232daea92c37971ac64fb135aa3d6acf/cv-corpus-8.0-2022-01-19/sw/clips/common_voice_sw_30068882.mp3', 'array': [-5.5614265e-08, 2.1777036e-09, 7.144104e-08, -5.9268285e-08, -4.6166544e-08, 1.12783624e-07, -2.8936027e-08, -1.2152321e-07, 1.3132033e-07, 5.1829e-08, -2.0545758e-07, 9.3660475e-08, 1.8433221e-07, -2.5814657e-07, -3.034451e-08, 3.4193172e-07, -2.2395132e-07, -2.4871485e-07, 4.6350425e-07, -4.8866596e-08, -5.2762886e-07, 4.5974517e-07, 2.9248187e-07, -7.7949903e-07, 2.3512622e-07, 7.679402e-07, -8.664105e-07, -2.784117e-07, 1.2668087e-06, -6.1913505e-07, -1.0868062e-06, 1.5912906e-06, 1.4190276e-07, -2.112665e-06, 1.4419098e-06, 1.6338917e-06, -3.1993852e-06, 2.6989196e-07, 4.4471244e-06, -4.143991e-06, -4.506324e-06, 1.5995647e-05, 2.5767074e-05, 1.1925429e-05, 1.0839361e-06, -4.8862203e-06, -2.0336984e-05, -2.4382653e-05, -4.520635e-06, 7.295218e-06, -1.1689409e-06, -3.7327936e-06, 2.7848562e-06, 1.0866353e-06, -2.6852035e-06, 7.378397e-07, 1.6617774e-06, -1.5755215e-06, -3.9744523e-07, 1.5225083e-06, -5.8505316e-07, -9.139248e-07, 1.0337991e-06, 1.5800879e-07, -9.712027e-07, 4.3082125e-07, 5.9154894e-07, -7.1470674e-07, -1.209426e-07, 7.114669e-07, -2.832545e-07, -5.1105656e-07, 5.538675e-07, 1.9666919e-07, -6.7144947e-07, 1.7987371e-07, 6.110082e-07, -5.650971e-07, -3.3067465e-07, 8.540779e-07, -1.8055893e-07, -8.79423e-07, 8.259038e-07, 4.7119414e-07, -1.3525553e-06, 4.2645902e-07, 1.3795944e-06, -1.6350215e-06, -4.9966286e-07, 2.6663888e-06, -1.6370848e-06, -2.617469e-06, 5.6762656e-06, -1.3248854e-06, -2.4659617e-05, -2.4779132e-05, -7.408252e-07, 5.5889695e-06, -4.0718874e-06, -1.2133545e-09, ...], 'sampling_rate': 48000}</td>\n",
              "      <td>nimepambana dhidi ya utawala wa weusi</td>\n",
              "    </tr>\n",
              "    <tr>\n",
              "      <th>5</th>\n",
              "      <td>/root/.cache/huggingface/datasets/downloads/extracted/53d30892a707d521ef30c6c48f4ea9f8232daea92c37971ac64fb135aa3d6acf/cv-corpus-8.0-2022-01-19/sw/clips/common_voice_sw_29862296.mp3</td>\n",
              "      <td>{'path': '/root/.cache/huggingface/datasets/downloads/extracted/53d30892a707d521ef30c6c48f4ea9f8232daea92c37971ac64fb135aa3d6acf/cv-corpus-8.0-2022-01-19/sw/clips/common_voice_sw_29862296.mp3', 'array': [-2.1230822e-08, 1.3050334e-08, 1.8151752e-08, -3.176808e-08, 1.0266302e-09, 4.0967482e-08, -3.344724e-08, -2.7060414e-08, 6.4254635e-08, -1.5188792e-08, -7.025631e-08, 7.359241e-08, 3.2043463e-08, -1.1722196e-07, 4.985759e-08, 1.0798698e-07, -1.4449782e-07, -2.3347907e-08, 1.9598754e-07, -1.2040503e-07, -1.4875324e-07, 2.600343e-07, -1.5629903e-08, -3.0464926e-07, 2.4943088e-07, 1.8112154e-07, -4.3926255e-07, 1.1236438e-07, 4.4748413e-07, -4.7452636e-07, -1.8451402e-07, 7.1733865e-07, -3.1896576e-07, -6.3702385e-07, 8.7929953e-07, 1.17706904e-07, -1.1931637e-06, 7.757797e-07, 9.3126397e-07, -1.7580862e-06, 1.5478233e-07, 2.340526e-06, -2.2157838e-06, -1.7758886e-06, 5.7699017e-06, -2.4622902e-06, -2.3905472e-05, -2.3889399e-05, -2.4396754e-06, 5.7424354e-06, -1.8012689e-06, -2.1581825e-06, 2.3400314e-06, 7.240961e-08, -1.6967765e-06, 9.972168e-07, 6.4413274e-07, -1.1794496e-06, 2.7785117e-07, 7.3920285e-07, -7.334975e-07, -6.828793e-08, 6.4677147e-07, -4.4341297e-07, -1.8944962e-07, 5.504354e-07, -3.1707637e-07, -2.3933254e-07, 5.549414e-07, -2.7802218e-07, -3.603988e-07, 6.677536e-07, -1.8920633e-07, -6.377863e-07, 7.937511e-07, 9.756024e-08, -1.0574399e-06, 7.576449e-07, 6.825606e-07, -1.4870245e-06, 3.47678e-07, 1.5706963e-06, -1.6812021e-06, -6.4664835e-07, 2.6542925e-06, -1.277894e-06, -2.4726805e-06, 3.7349535e-06, 3.8638467e-07, -5.8569453e-06, 4.5791203e-06, 6.4505302e-06, -1.9421297e-05, -2.5528558e-05, 1.02099575e-05, 2.8569155e-05, 4.864264e-06, -9.29616e-06, 2.2759305e-06, 4.2323486e-06, ...], 'sampling_rate': 48000}</td>\n",
              "      <td>maziwa hayo hutumika sana kama maziwa lala</td>\n",
              "    </tr>\n",
              "    <tr>\n",
              "      <th>6</th>\n",
              "      <td>/root/.cache/huggingface/datasets/downloads/extracted/53d30892a707d521ef30c6c48f4ea9f8232daea92c37971ac64fb135aa3d6acf/cv-corpus-8.0-2022-01-19/sw/clips/common_voice_sw_28748951.mp3</td>\n",
              "      <td>{'path': '/root/.cache/huggingface/datasets/downloads/extracted/53d30892a707d521ef30c6c48f4ea9f8232daea92c37971ac64fb135aa3d6acf/cv-corpus-8.0-2022-01-19/sw/clips/common_voice_sw_28748951.mp3', 'array': [-2.1230822e-08, 1.3050334e-08, 1.8151752e-08, -3.176808e-08, 1.0266302e-09, 4.0967482e-08, -3.344724e-08, -2.7060414e-08, 6.4254635e-08, -1.5188792e-08, -7.025631e-08, 7.359241e-08, 3.2043463e-08, -1.1722196e-07, 4.985759e-08, 1.0798698e-07, -1.4449782e-07, -2.3347907e-08, 1.9598754e-07, -1.2040503e-07, -1.4873558e-07, 2.600356e-07, -1.5707004e-08, -3.0456735e-07, 2.495301e-07, 1.8083888e-07, -4.3919104e-07, 1.1285589e-07, 4.4688537e-07, -4.7487205e-07, -1.8313725e-07, 7.166971e-07, -3.2071117e-07, -6.3443616e-07, 8.798609e-07, 1.13132046e-07, -1.1901271e-06, 7.802035e-07, 9.2296324e-07, -1.7577239e-06, 1.666664e-07, 2.3301855e-06, -2.224334e-06, -1.754231e-06, 5.764305e-06, -2.4878939e-06, -2.3877134e-05, -2.3877134e-05, -2.4878939e-06, 5.764305e-06, -1.754231e-06, -2.224334e-06, 2.3301855e-06, 1.666664e-07, -1.7577239e-06, 9.2296324e-07, 7.802035e-07, -1.1901271e-06, 1.13132046e-07, 8.798609e-07, -6.3443616e-07, -3.2071117e-07, 7.166971e-07, -1.8313725e-07, -4.7487205e-07, 4.4688537e-07, 1.1285589e-07, -4.3919104e-07, 1.8083888e-07, 2.495301e-07, -3.0456735e-07, -1.5707004e-08, 2.600356e-07, -1.4873558e-07, -1.2040503e-07, 1.9598754e-07, -2.3347907e-08, -1.4449782e-07, 1.0798698e-07, 4.985759e-08, -1.1722196e-07, 3.2043463e-08, 7.359241e-08, -7.025631e-08, -1.5188792e-08, 6.4254635e-08, -2.7060414e-08, -3.344724e-08, 4.0967482e-08, 1.0266302e-09, -3.176808e-08, 1.8151752e-08, 1.3050334e-08, -2.1230822e-08, 2.865725e-09, 1.3874331e-08, -1.0184482e-08, -4.067796e-09, 9.61578e-09, -2.662255e-09, ...], 'sampling_rate': 48000}</td>\n",
              "      <td>kila ukoo una alama tofauti</td>\n",
              "    </tr>\n",
              "    <tr>\n",
              "      <th>7</th>\n",
              "      <td>/root/.cache/huggingface/datasets/downloads/extracted/53d30892a707d521ef30c6c48f4ea9f8232daea92c37971ac64fb135aa3d6acf/cv-corpus-8.0-2022-01-19/sw/clips/common_voice_sw_29912431.mp3</td>\n",
              "      <td>{'path': '/root/.cache/huggingface/datasets/downloads/extracted/53d30892a707d521ef30c6c48f4ea9f8232daea92c37971ac64fb135aa3d6acf/cv-corpus-8.0-2022-01-19/sw/clips/common_voice_sw_29912431.mp3', 'array': [-2.4220951e-06, -2.3893184e-05, -2.395144e-05, -2.407395e-06, 5.797421e-06, -1.8851663e-06, -2.1636322e-06, 2.4506592e-06, -5.5880247e-09, -1.776081e-06, 1.1553759e-06, 6.223396e-07, -1.3591018e-06, 4.412732e-07, 8.3653885e-07, -1.0078659e-06, 2.0099028e-08, 9.1494167e-07, -7.5347833e-07, -2.8150924e-07, 9.960158e-07, -5.4129157e-07, -6.0978056e-07, 1.1054076e-06, -2.4477401e-07, -1.0521114e-06, 1.1501287e-06, 2.864237e-07, -1.5870291e-06, 9.337791e-07, 1.160301e-06, -2.0479897e-06, 1.9069117e-07, 2.3836837e-06, -2.0955952e-06, -1.4141482e-06, 3.835515e-06, -1.0733619e-06, -4.5931706e-06, 5.2857695e-06, 3.7684722e-06, -1.6885997e-05, -2.40618e-05, -1.2111767e-05, -3.341724e-06, 7.0990577e-06, 2.200451e-05, 1.8687819e-05, 7.073221e-06, 1.644854e-05, 2.5059944e-05, 6.3773846e-06, -8.682225e-06, 5.735113e-07, 5.143648e-06, -3.12986e-06, -2.0668276e-06, 3.5896503e-06, -4.3168512e-07, -2.684952e-06, 1.9534352e-06, 1.1275835e-06, -2.3796435e-06, 4.358745e-07, 1.890561e-06, -1.5561952e-06, -8.3112604e-07, 2.0192167e-06, -4.354004e-07, -1.7862891e-06, 1.6042151e-06, 8.986506e-07, -2.4195535e-06, 5.9993465e-07, 2.601476e-06, -2.747377e-06, -1.6492132e-06, 6.123671e-06, -2.7963795e-06, -2.3975459e-05, -2.356822e-05, -2.6004243e-06, 5.587566e-06, -1.5558801e-06, -2.2068052e-06, 2.163452e-06, 2.5516357e-07, -1.6821003e-06, 8.0834076e-07, 7.9177187e-07, -1.1094928e-06, 5.55416e-08, 8.537421e-07, -5.7554934e-07, -3.3658137e-07, 6.826828e-07, -1.5125126e-07, -4.690685e-07, 4.2048174e-07, 1.2425365e-07, ...], 'sampling_rate': 48000}</td>\n",
              "      <td>akaamua kurejea na kuunda jeshi lake ili kupambana na mwamubambe</td>\n",
              "    </tr>\n",
              "    <tr>\n",
              "      <th>8</th>\n",
              "      <td>/root/.cache/huggingface/datasets/downloads/extracted/53d30892a707d521ef30c6c48f4ea9f8232daea92c37971ac64fb135aa3d6acf/cv-corpus-8.0-2022-01-19/sw/clips/common_voice_sw_30196689.mp3</td>\n",
              "      <td>{'path': '/root/.cache/huggingface/datasets/downloads/extracted/53d30892a707d521ef30c6c48f4ea9f8232daea92c37971ac64fb135aa3d6acf/cv-corpus-8.0-2022-01-19/sw/clips/common_voice_sw_30196689.mp3', 'array': [2.6987577e-08, -8.819546e-09, -2.8886287e-08, 3.4383444e-08, 1.0872631e-08, -5.3289295e-08, 2.7500203e-08, 4.7193176e-08, -7.181614e-08, -4.5112105e-09, 9.4462806e-08, -6.70657e-08, -6.7017794e-08, 1.3520128e-07, -2.0068068e-08, -1.5228875e-07, 1.4092461e-07, 8.02021e-08, -2.3394696e-07, 7.943052e-08, 2.2540034e-07, -2.6748972e-07, -7.162085e-08, 3.78911e-07, -1.995678e-07, -3.083682e-07, 4.7483965e-07, 1.4805353e-08, -5.873081e-07, 4.2673227e-07, 3.9204093e-07, -8.198235e-07, 1.429553e-07, 9.0465403e-07, -8.734217e-07, -4.6511312e-07, 1.4785996e-06, -5.586609e-07, -1.524151e-06, 2.0071818e-06, 5.169049e-07, -3.526661e-06, 2.3790324e-06, 4.682406e-06, -1.3663108e-05, -2.8006267e-05, -1.3670866e-05, 4.6934333e-06, 2.3760174e-06, -3.5398102e-06, 5.348993e-07, 2.0089976e-06, -1.550744e-06, -5.3865796e-07, 1.4976126e-06, -5.064559e-07, -8.655958e-07, 9.5144895e-07, 9.722313e-08, -8.439198e-07, 4.6737986e-07, 3.9999478e-07, -6.6041224e-07, 1.02429155e-07, 4.990579e-07, -4.3359952e-07, -1.3566377e-07, 4.835913e-07, -2.2737021e-07, -2.7802218e-07, 4.2191283e-07, -5.5170194e-08, -3.7061895e-07, 3.462486e-07, 1.052436e-07, -4.482819e-07, 2.497437e-07, 2.8936216e-07, -5.183167e-07, 9.60981e-08, 5.2830603e-07, -5.602022e-07, -1.714736e-07, 8.5702436e-07, -5.400965e-07, -6.668264e-07, 1.4180949e-06, -4.322266e-07, -1.9497838e-06, 3.4253003e-06, -2.3657239e-07, -2.2132303e-05, -2.9655903e-05, 1.5419012e-08, 2.9642968e-05, 2.211086e-05, 2.6944792e-07, -3.4289724e-06, 1.9138079e-06, 4.6708075e-07, ...], 'sampling_rate': 48000}</td>\n",
              "      <td>tuzo hizo zilitolewa katika tamasha tanzania</td>\n",
              "    </tr>\n",
              "    <tr>\n",
              "      <th>9</th>\n",
              "      <td>/root/.cache/huggingface/datasets/downloads/extracted/53d30892a707d521ef30c6c48f4ea9f8232daea92c37971ac64fb135aa3d6acf/cv-corpus-8.0-2022-01-19/sw/clips/common_voice_sw_29980288.mp3</td>\n",
              "      <td>{'path': '/root/.cache/huggingface/datasets/downloads/extracted/53d30892a707d521ef30c6c48f4ea9f8232daea92c37971ac64fb135aa3d6acf/cv-corpus-8.0-2022-01-19/sw/clips/common_voice_sw_29980288.mp3', 'array': [2.5956298e-08, -2.4417197e-09, -3.221612e-08, 2.8666735e-08, 1.9267498e-08, -5.217344e-08, 1.6125e-08, 5.406853e-08, -6.262707e-08, -1.9732052e-08, 9.415882e-08, -4.808132e-08, -8.0454726e-08, 1.2173867e-07, 6.139801e-09, -1.5501836e-07, 1.1110849e-07, 1.053196e-07, -2.163368e-07, 3.6226577e-08, 2.3603387e-07, -2.2343924e-07, -1.1709239e-07, 3.5999062e-07, -1.308425e-07, -3.3758494e-07, 4.145743e-07, 9.628133e-08, -5.780236e-07, 3.2080416e-07, 4.657275e-07, -7.503705e-07, -6.572588e-09, 9.471273e-07, -7.2052757e-07, -6.656424e-07, 1.4718134e-06, -2.6139642e-07, -1.8704822e-06, 1.9459642e-06, 1.3589523e-06, -4.9567766e-06, 2.274237e-06, 2.2634986e-05, 2.6113652e-05, 2.3865548e-06, -2.496329e-05, -3.5792942e-05, -2.825878e-05, -1.0235922e-05, 2.7572498e-06, 1.9199447e-06, -2.1205642e-06, -1.0145356e-07, 1.4430802e-06, -7.1282574e-07, -6.6160254e-07, 9.236632e-07, -2.9416748e-08, -7.1176976e-07, 4.5291776e-07, 2.9834968e-07, -5.503732e-07, 9.5443205e-08, 3.9158962e-07, -3.2116023e-07, -1.2224562e-07, 3.4034136e-07, -1.11665955e-07, -2.1021731e-07, 2.2306149e-07, 3.3159594e-08, -2.0346864e-07, 9.9979275e-08, 1.0354628e-07, -1.4594417e-07, 6.9966006e-09, 1.13648746e-07, -7.634523e-08, -4.3802885e-08, 8.823563e-08, -1.9785539e-08, -5.7727924e-08, 5.126691e-08, 1.37472345e-08, -4.852899e-08, 1.9106132e-08, 2.5821047e-08, -3.0473565e-08, -1.1510733e-09, 2.3846184e-08, -1.3600261e-08, -9.643542e-09, 1.5941238e-08, -2.4668698e-09, -1.0206873e-08, 7.896811e-09, 2.6542921e-09, -7.220514e-09, 2.3926474e-09, ...], 'sampling_rate': 48000}</td>\n",
              "      <td>wameanza kuweka mikakati kuhakikisha urithi huu unatunzwa</td>\n",
              "    </tr>\n",
              "  </tbody>\n",
              "</table>"
            ]
          },
          "metadata": {}
        }
      ]
    },
    {
      "cell_type": "code",
      "source": [
        "common_voice_test"
      ],
      "metadata": {
        "colab": {
          "base_uri": "https://localhost:8080/"
        },
        "id": "rnBZ-2cM_1pg",
        "outputId": "851a1a5a-bca3-4fb1-89ed-51758480179c"
      },
      "execution_count": 15,
      "outputs": [
        {
          "output_type": "execute_result",
          "data": {
            "text/plain": [
              "Dataset({\n",
              "    features: ['client_id', 'path', 'audio', 'sentence'],\n",
              "    num_rows: 8941\n",
              "})"
            ]
          },
          "metadata": {},
          "execution_count": 15
        }
      ]
    },
    {
      "cell_type": "markdown",
      "source": [
        "### Data Preprocessing"
      ],
      "metadata": {
        "id": "gAAiortFEJ70"
      }
    },
    {
      "cell_type": "markdown",
      "source": [
        "#### Vocabulary to be used"
      ],
      "metadata": {
        "id": "EVRmKlVPEUw0"
      }
    },
    {
      "cell_type": "code",
      "source": [
        "# Set of characters acceptable in swahili\n",
        "\n",
        "characters = [x for x in \"abcdefghijklmnopqrstuvwxyz'?! \"]\n",
        "\n",
        "# Mapping characters to integers\n",
        "char_to_num = keras.layers.StringLookup(vocabulary=characters, oov_token=\"\")\n",
        "\n",
        "# Mapping integers to characters\n",
        "num_to_char = keras.layers.StringLookup(vocabulary=char_to_num.get_vocabulary(), oov_token=\"\", invert=True) \n",
        "\n",
        "\n",
        "print(\n",
        "    f\"The vocabulary is: {char_to_num.get_vocabulary()}\"\n",
        "    f\"(size = {char_to_num.vocabulary_size()}\"\n",
        ")"
      ],
      "metadata": {
        "id": "4UGRWXYpENIy",
        "colab": {
          "base_uri": "https://localhost:8080/"
        },
        "outputId": "faf71baa-0a0f-498c-b329-c12f24c1cd36"
      },
      "execution_count": 18,
      "outputs": [
        {
          "output_type": "stream",
          "name": "stdout",
          "text": [
            "The vocabulary is: ['', 'a', 'b', 'c', 'd', 'e', 'f', 'g', 'h', 'i', 'j', 'k', 'l', 'm', 'n', 'o', 'p', 'q', 'r', 's', 't', 'u', 'v', 'w', 'x', 'y', 'z', \"'\", '?', '!', ' '](size = 31\n"
          ]
        }
      ]
    },
    {
      "cell_type": "code",
      "source": [
        "wavs_path = \"/content/wav/\"\n",
        "train_df_path = \"/content/train.tsv\"\n",
        "\n",
        "train_df = pd.read_csv(train_df_path, sep='\\t')\n",
        "train_df = train_df[['path', 'sentence']]\n",
        "train_df.head()"
      ],
      "metadata": {
        "colab": {
          "base_uri": "https://localhost:8080/",
          "height": 221
        },
        "id": "Tr41nA91YuvD",
        "outputId": "e6234bff-4855-4509-8fbf-8cba4fd32220"
      },
      "execution_count": 35,
      "outputs": [
        {
          "output_type": "execute_result",
          "data": {
            "text/plain": [
              "                           path  \\\n",
              "0  common_voice_sw_29914941.mp3   \n",
              "1  common_voice_sw_29914942.mp3   \n",
              "2  common_voice_sw_29914944.mp3   \n",
              "3  common_voice_sw_29914946.mp3   \n",
              "4  common_voice_sw_29914947.mp3   \n",
              "\n",
              "                                            sentence  \n",
              "0  au mabadiliko ya utandawazi yanachangia katika...  \n",
              "1  james aliibuka mfungaji wa bao bora la mashind...  \n",
              "2  Haya yanapaswa kutunzwa na kutumiwa ipasavyo k...  \n",
              "3  Kitaifa maadhimisho haya yalifanyika katika Ki...  \n",
              "4                Ingawa ina fonimu nyingi za Kikushi  "
            ],
            "text/html": [
              "\n",
              "  <div id=\"df-a15c451a-5aab-4308-b5ea-ec761e7c866a\">\n",
              "    <div class=\"colab-df-container\">\n",
              "      <div>\n",
              "<style scoped>\n",
              "    .dataframe tbody tr th:only-of-type {\n",
              "        vertical-align: middle;\n",
              "    }\n",
              "\n",
              "    .dataframe tbody tr th {\n",
              "        vertical-align: top;\n",
              "    }\n",
              "\n",
              "    .dataframe thead th {\n",
              "        text-align: right;\n",
              "    }\n",
              "</style>\n",
              "<table border=\"1\" class=\"dataframe\">\n",
              "  <thead>\n",
              "    <tr style=\"text-align: right;\">\n",
              "      <th></th>\n",
              "      <th>path</th>\n",
              "      <th>sentence</th>\n",
              "    </tr>\n",
              "  </thead>\n",
              "  <tbody>\n",
              "    <tr>\n",
              "      <th>0</th>\n",
              "      <td>common_voice_sw_29914941.mp3</td>\n",
              "      <td>au mabadiliko ya utandawazi yanachangia katika...</td>\n",
              "    </tr>\n",
              "    <tr>\n",
              "      <th>1</th>\n",
              "      <td>common_voice_sw_29914942.mp3</td>\n",
              "      <td>james aliibuka mfungaji wa bao bora la mashind...</td>\n",
              "    </tr>\n",
              "    <tr>\n",
              "      <th>2</th>\n",
              "      <td>common_voice_sw_29914944.mp3</td>\n",
              "      <td>Haya yanapaswa kutunzwa na kutumiwa ipasavyo k...</td>\n",
              "    </tr>\n",
              "    <tr>\n",
              "      <th>3</th>\n",
              "      <td>common_voice_sw_29914946.mp3</td>\n",
              "      <td>Kitaifa maadhimisho haya yalifanyika katika Ki...</td>\n",
              "    </tr>\n",
              "    <tr>\n",
              "      <th>4</th>\n",
              "      <td>common_voice_sw_29914947.mp3</td>\n",
              "      <td>Ingawa ina fonimu nyingi za Kikushi</td>\n",
              "    </tr>\n",
              "  </tbody>\n",
              "</table>\n",
              "</div>\n",
              "      <button class=\"colab-df-convert\" onclick=\"convertToInteractive('df-a15c451a-5aab-4308-b5ea-ec761e7c866a')\"\n",
              "              title=\"Convert this dataframe to an interactive table.\"\n",
              "              style=\"display:none;\">\n",
              "        \n",
              "  <svg xmlns=\"http://www.w3.org/2000/svg\" height=\"24px\"viewBox=\"0 0 24 24\"\n",
              "       width=\"24px\">\n",
              "    <path d=\"M0 0h24v24H0V0z\" fill=\"none\"/>\n",
              "    <path d=\"M18.56 5.44l.94 2.06.94-2.06 2.06-.94-2.06-.94-.94-2.06-.94 2.06-2.06.94zm-11 1L8.5 8.5l.94-2.06 2.06-.94-2.06-.94L8.5 2.5l-.94 2.06-2.06.94zm10 10l.94 2.06.94-2.06 2.06-.94-2.06-.94-.94-2.06-.94 2.06-2.06.94z\"/><path d=\"M17.41 7.96l-1.37-1.37c-.4-.4-.92-.59-1.43-.59-.52 0-1.04.2-1.43.59L10.3 9.45l-7.72 7.72c-.78.78-.78 2.05 0 2.83L4 21.41c.39.39.9.59 1.41.59.51 0 1.02-.2 1.41-.59l7.78-7.78 2.81-2.81c.8-.78.8-2.07 0-2.86zM5.41 20L4 18.59l7.72-7.72 1.47 1.35L5.41 20z\"/>\n",
              "  </svg>\n",
              "      </button>\n",
              "      \n",
              "  <style>\n",
              "    .colab-df-container {\n",
              "      display:flex;\n",
              "      flex-wrap:wrap;\n",
              "      gap: 12px;\n",
              "    }\n",
              "\n",
              "    .colab-df-convert {\n",
              "      background-color: #E8F0FE;\n",
              "      border: none;\n",
              "      border-radius: 50%;\n",
              "      cursor: pointer;\n",
              "      display: none;\n",
              "      fill: #1967D2;\n",
              "      height: 32px;\n",
              "      padding: 0 0 0 0;\n",
              "      width: 32px;\n",
              "    }\n",
              "\n",
              "    .colab-df-convert:hover {\n",
              "      background-color: #E2EBFA;\n",
              "      box-shadow: 0px 1px 2px rgba(60, 64, 67, 0.3), 0px 1px 3px 1px rgba(60, 64, 67, 0.15);\n",
              "      fill: #174EA6;\n",
              "    }\n",
              "\n",
              "    [theme=dark] .colab-df-convert {\n",
              "      background-color: #3B4455;\n",
              "      fill: #D2E3FC;\n",
              "    }\n",
              "\n",
              "    [theme=dark] .colab-df-convert:hover {\n",
              "      background-color: #434B5C;\n",
              "      box-shadow: 0px 1px 3px 1px rgba(0, 0, 0, 0.15);\n",
              "      filter: drop-shadow(0px 1px 2px rgba(0, 0, 0, 0.3));\n",
              "      fill: #FFFFFF;\n",
              "    }\n",
              "  </style>\n",
              "\n",
              "      <script>\n",
              "        const buttonEl =\n",
              "          document.querySelector('#df-a15c451a-5aab-4308-b5ea-ec761e7c866a button.colab-df-convert');\n",
              "        buttonEl.style.display =\n",
              "          google.colab.kernel.accessAllowed ? 'block' : 'none';\n",
              "\n",
              "        async function convertToInteractive(key) {\n",
              "          const element = document.querySelector('#df-a15c451a-5aab-4308-b5ea-ec761e7c866a');\n",
              "          const dataTable =\n",
              "            await google.colab.kernel.invokeFunction('convertToInteractive',\n",
              "                                                     [key], {});\n",
              "          if (!dataTable) return;\n",
              "\n",
              "          const docLinkHtml = 'Like what you see? Visit the ' +\n",
              "            '<a target=\"_blank\" href=https://colab.research.google.com/notebooks/data_table.ipynb>data table notebook</a>'\n",
              "            + ' to learn more about interactive tables.';\n",
              "          element.innerHTML = '';\n",
              "          dataTable['output_type'] = 'display_data';\n",
              "          await google.colab.output.renderOutput(dataTable, element);\n",
              "          const docLink = document.createElement('div');\n",
              "          docLink.innerHTML = docLinkHtml;\n",
              "          element.appendChild(docLink);\n",
              "        }\n",
              "      </script>\n",
              "    </div>\n",
              "  </div>\n",
              "  "
            ]
          },
          "metadata": {},
          "execution_count": 35
        }
      ]
    },
    {
      "cell_type": "code",
      "source": [],
      "metadata": {
        "id": "EQmE4Y9oZpoX"
      },
      "execution_count": null,
      "outputs": []
    },
    {
      "cell_type": "code",
      "source": [
        "# Window lenght in samples\n",
        "frame_length = 256\n",
        "\n",
        "# Number of samples to step\n",
        "frame_step = 160\n",
        "\n",
        "# Sise of the Fast Fourier Transform(FFT) to apply\n",
        "fft_length = 384\n",
        "\n",
        "\n",
        "def encode_single_sample(wav_file, label):\n",
        "  ## Process the Audio\n",
        "\n",
        "  # 1. Read wav file\n",
        "  file = tf.io.read_file(wavs_path + wav_file + \".wav\")\n",
        "\n",
        "  # 2. Decode the wav file\n",
        "  audio, _ = tf.audio.decode_wav(file)\n",
        "  audio = tf.squeeze(audio, axis=-1)\n",
        "\n",
        "  # 3. Change type to float\n",
        "  audio = tf.cast(audio, tf.float32)\n",
        "\n",
        "  # 4. Get the spectogram\n",
        "  spectogram = tf.signal.stft(\n",
        "      audio, frame_length=frame_length, frame_step=frame_step, fft_length=fft_length\n",
        "  )\n",
        "\n",
        "  # 5. Applying tf.abs to get magnitude of audios\n",
        "  spectogram = tf.abs(spectogram)\n",
        "  spectogram = tf.math.pow(spectogram, 0.5)\n",
        "\n",
        "  # 6. Normalisation\n",
        "  means = tf.math.reduce_mean(spectogram, 1, keepdims=True)\n",
        "  stddevs = tf.math.reduce_std(spectogram, 1, keepdims=True)\n",
        "  spectogram = (spectogram - means) / (stddevs + 1e-10)\n",
        "\n",
        "  # Process the label\n",
        "  \n",
        "  # 7. Convert labels to lower case\n",
        "  label = tf.strings.lower(label)\n",
        "\n",
        "  # 8. Split the label\n",
        "  label = tf.strings.unicode_split(label, input_encoding='UTF-8')\n",
        "\n",
        "  # 9. Map the characters in label to numbers\n",
        "  label = char_to_num(label)\n",
        "\n",
        "  # 10. Return a dictionary since our model ecpects 2 inputs\n",
        "  return spectogram, label\n"
      ],
      "metadata": {
        "id": "3p7yGpEsaKOD"
      },
      "execution_count": 36,
      "outputs": []
    },
    {
      "cell_type": "markdown",
      "source": [
        "#### Create dataset objects\n"
      ],
      "metadata": {
        "id": "_Si8WwwYc9TN"
      }
    },
    {
      "cell_type": "markdown",
      "source": [
        "Create a tf.data.Dataset object that yield the transformed elements in the same order as they appear in the input"
      ],
      "metadata": {
        "id": "oZtuM4oAdHXA"
      }
    },
    {
      "cell_type": "code",
      "source": [
        "batch_size = 32\n",
        "\n",
        "# Define training dataset\n",
        "\n",
        "train_dataset = tf.data.Dataset.from_tensor_slices(\n",
        "    (list(train_df['path']), list(train_df['sentence']))\n",
        ")\n",
        "\n",
        "\n",
        "train_dataset = (\n",
        "    train_dataset.map(encode_single_sample, num_parallel_calls=tf.data.AUTOTUNE)\n",
        "    .padded_batch(batch_size)\n",
        "    .prefetch(buffer_size=tf.data.AUTOTUNE)\n",
        ")\n",
        "\n",
        "# Define the validation dataset\n",
        "\n",
        "validation_dataset = tf.data.Dataset.from_tensor_slices(\n",
        "    (list(common_voice_test['path']), list(common_voice_test['sentence']))\n",
        ")\n",
        "\n",
        "validation_dataset = (\n",
        "    validation_dataset.map(encode_single_sample, num_parallel_calls=tf.data.AUTOTUNE)\n",
        "    .padded_batch(batch_size)\n",
        "    .prefetch(buffer_size=tf.data.AUTOTUNE)\n",
        ")"
      ],
      "metadata": {
        "id": "dH_xH3NDc3Ug"
      },
      "execution_count": 37,
      "outputs": []
    },
    {
      "cell_type": "code",
      "source": [
        "common_voice_test['path']"
      ],
      "metadata": {
        "id": "EZt0ZjQIdVwv"
      },
      "execution_count": null,
      "outputs": []
    },
    {
      "cell_type": "markdown",
      "source": [
        "#### Visualise the Data"
      ],
      "metadata": {
        "id": "YgtaT8CGgOSM"
      }
    },
    {
      "cell_type": "code",
      "source": [
        "fig = plt.figure(figsize=(8,5))\n",
        "\n",
        "for batch in train_dataset.take(1):\n",
        "  spectogram = batch[0][0].numpy()\n",
        "  spectogram = np.array([np.trim_zeros(x) for x in np.transpose(spectogram)])\n",
        "  label = batch[1][0]\n",
        "\n",
        "  # Spectogram\n",
        "  label = tf.strings.reduce_join(num_to_char(label)).numpy().decode(\"utf-8\")\n",
        "  ax = plt.subplot(2, 1, 1)\n",
        "  ax.imshow(spectogram, vmax=1)\n",
        "  ax.set_title(label)\n",
        "  ax.axis(\"off\")\n",
        "\n",
        "  # Wav\n",
        "  file = tf.io.read_file(wavs_path + list(train_df['path'])[0] + \".wav\")\n",
        "  audio, _ = tf.audio.decode_wav(file)\n",
        "  audio = audio.numpy()\n",
        "  ax = plt.subplot(2, 1, 2)\n",
        "  plt.plot(audio)\n",
        "  ax.set_title(\"Signal Wave\")\n",
        "  ax.set_xlim(0, len(audio))\n",
        "  display.display(display.Audio(np.transpose(audio), rate=16000))\n",
        "\n",
        "plt.show()"
      ],
      "metadata": {
        "colab": {
          "base_uri": "https://localhost:8080/",
          "height": 469
        },
        "id": "M4xwd-s0gR9K",
        "outputId": "4458c698-70c1-4354-f1dd-eaf3776e43f9"
      },
      "execution_count": 40,
      "outputs": [
        {
          "output_type": "error",
          "ename": "NotFoundError",
          "evalue": "ignored",
          "traceback": [
            "\u001b[0;31m---------------------------------------------------------------------------\u001b[0m",
            "\u001b[0;31mNotFoundError\u001b[0m                             Traceback (most recent call last)",
            "\u001b[0;32m<ipython-input-40-ee5a583e3f4c>\u001b[0m in \u001b[0;36m<module>\u001b[0;34m\u001b[0m\n\u001b[1;32m      1\u001b[0m \u001b[0mfig\u001b[0m \u001b[0;34m=\u001b[0m \u001b[0mplt\u001b[0m\u001b[0;34m.\u001b[0m\u001b[0mfigure\u001b[0m\u001b[0;34m(\u001b[0m\u001b[0mfigsize\u001b[0m\u001b[0;34m=\u001b[0m\u001b[0;34m(\u001b[0m\u001b[0;36m8\u001b[0m\u001b[0;34m,\u001b[0m\u001b[0;36m5\u001b[0m\u001b[0;34m)\u001b[0m\u001b[0;34m)\u001b[0m\u001b[0;34m\u001b[0m\u001b[0;34m\u001b[0m\u001b[0m\n\u001b[1;32m      2\u001b[0m \u001b[0;34m\u001b[0m\u001b[0m\n\u001b[0;32m----> 3\u001b[0;31m \u001b[0;32mfor\u001b[0m \u001b[0mbatch\u001b[0m \u001b[0;32min\u001b[0m \u001b[0mtrain_dataset\u001b[0m\u001b[0;34m.\u001b[0m\u001b[0mtake\u001b[0m\u001b[0;34m(\u001b[0m\u001b[0;36m1\u001b[0m\u001b[0;34m)\u001b[0m\u001b[0;34m:\u001b[0m\u001b[0;34m\u001b[0m\u001b[0;34m\u001b[0m\u001b[0m\n\u001b[0m\u001b[1;32m      4\u001b[0m   \u001b[0mspectogram\u001b[0m \u001b[0;34m=\u001b[0m \u001b[0mbatch\u001b[0m\u001b[0;34m[\u001b[0m\u001b[0;36m0\u001b[0m\u001b[0;34m]\u001b[0m\u001b[0;34m[\u001b[0m\u001b[0;36m0\u001b[0m\u001b[0;34m]\u001b[0m\u001b[0;34m.\u001b[0m\u001b[0mnumpy\u001b[0m\u001b[0;34m(\u001b[0m\u001b[0;34m)\u001b[0m\u001b[0;34m\u001b[0m\u001b[0;34m\u001b[0m\u001b[0m\n\u001b[1;32m      5\u001b[0m   \u001b[0mspectogram\u001b[0m \u001b[0;34m=\u001b[0m \u001b[0mnp\u001b[0m\u001b[0;34m.\u001b[0m\u001b[0marray\u001b[0m\u001b[0;34m(\u001b[0m\u001b[0;34m[\u001b[0m\u001b[0mnp\u001b[0m\u001b[0;34m.\u001b[0m\u001b[0mtrim_zeros\u001b[0m\u001b[0;34m(\u001b[0m\u001b[0mx\u001b[0m\u001b[0;34m)\u001b[0m \u001b[0;32mfor\u001b[0m \u001b[0mx\u001b[0m \u001b[0;32min\u001b[0m \u001b[0mnp\u001b[0m\u001b[0;34m.\u001b[0m\u001b[0mtranspose\u001b[0m\u001b[0;34m(\u001b[0m\u001b[0mspectogram\u001b[0m\u001b[0;34m)\u001b[0m\u001b[0;34m]\u001b[0m\u001b[0;34m)\u001b[0m\u001b[0;34m\u001b[0m\u001b[0;34m\u001b[0m\u001b[0m\n",
            "\u001b[0;32m/usr/local/lib/python3.7/dist-packages/tensorflow/python/data/ops/iterator_ops.py\u001b[0m in \u001b[0;36m__next__\u001b[0;34m(self)\u001b[0m\n\u001b[1;32m    764\u001b[0m   \u001b[0;32mdef\u001b[0m \u001b[0m__next__\u001b[0m\u001b[0;34m(\u001b[0m\u001b[0mself\u001b[0m\u001b[0;34m)\u001b[0m\u001b[0;34m:\u001b[0m\u001b[0;34m\u001b[0m\u001b[0;34m\u001b[0m\u001b[0m\n\u001b[1;32m    765\u001b[0m     \u001b[0;32mtry\u001b[0m\u001b[0;34m:\u001b[0m\u001b[0;34m\u001b[0m\u001b[0;34m\u001b[0m\u001b[0m\n\u001b[0;32m--> 766\u001b[0;31m       \u001b[0;32mreturn\u001b[0m \u001b[0mself\u001b[0m\u001b[0;34m.\u001b[0m\u001b[0m_next_internal\u001b[0m\u001b[0;34m(\u001b[0m\u001b[0;34m)\u001b[0m\u001b[0;34m\u001b[0m\u001b[0;34m\u001b[0m\u001b[0m\n\u001b[0m\u001b[1;32m    767\u001b[0m     \u001b[0;32mexcept\u001b[0m \u001b[0merrors\u001b[0m\u001b[0;34m.\u001b[0m\u001b[0mOutOfRangeError\u001b[0m\u001b[0;34m:\u001b[0m\u001b[0;34m\u001b[0m\u001b[0;34m\u001b[0m\u001b[0m\n\u001b[1;32m    768\u001b[0m       \u001b[0;32mraise\u001b[0m \u001b[0mStopIteration\u001b[0m\u001b[0;34m\u001b[0m\u001b[0;34m\u001b[0m\u001b[0m\n",
            "\u001b[0;32m/usr/local/lib/python3.7/dist-packages/tensorflow/python/data/ops/iterator_ops.py\u001b[0m in \u001b[0;36m_next_internal\u001b[0;34m(self)\u001b[0m\n\u001b[1;32m    750\u001b[0m           \u001b[0mself\u001b[0m\u001b[0;34m.\u001b[0m\u001b[0m_iterator_resource\u001b[0m\u001b[0;34m,\u001b[0m\u001b[0;34m\u001b[0m\u001b[0;34m\u001b[0m\u001b[0m\n\u001b[1;32m    751\u001b[0m           \u001b[0moutput_types\u001b[0m\u001b[0;34m=\u001b[0m\u001b[0mself\u001b[0m\u001b[0;34m.\u001b[0m\u001b[0m_flat_output_types\u001b[0m\u001b[0;34m,\u001b[0m\u001b[0;34m\u001b[0m\u001b[0;34m\u001b[0m\u001b[0m\n\u001b[0;32m--> 752\u001b[0;31m           output_shapes=self._flat_output_shapes)\n\u001b[0m\u001b[1;32m    753\u001b[0m \u001b[0;34m\u001b[0m\u001b[0m\n\u001b[1;32m    754\u001b[0m       \u001b[0;32mtry\u001b[0m\u001b[0;34m:\u001b[0m\u001b[0;34m\u001b[0m\u001b[0;34m\u001b[0m\u001b[0m\n",
            "\u001b[0;32m/usr/local/lib/python3.7/dist-packages/tensorflow/python/ops/gen_dataset_ops.py\u001b[0m in \u001b[0;36miterator_get_next\u001b[0;34m(iterator, output_types, output_shapes, name)\u001b[0m\n\u001b[1;32m   3015\u001b[0m       \u001b[0;32mreturn\u001b[0m \u001b[0m_result\u001b[0m\u001b[0;34m\u001b[0m\u001b[0;34m\u001b[0m\u001b[0m\n\u001b[1;32m   3016\u001b[0m     \u001b[0;32mexcept\u001b[0m \u001b[0m_core\u001b[0m\u001b[0;34m.\u001b[0m\u001b[0m_NotOkStatusException\u001b[0m \u001b[0;32mas\u001b[0m \u001b[0me\u001b[0m\u001b[0;34m:\u001b[0m\u001b[0;34m\u001b[0m\u001b[0;34m\u001b[0m\u001b[0m\n\u001b[0;32m-> 3017\u001b[0;31m       \u001b[0m_ops\u001b[0m\u001b[0;34m.\u001b[0m\u001b[0mraise_from_not_ok_status\u001b[0m\u001b[0;34m(\u001b[0m\u001b[0me\u001b[0m\u001b[0;34m,\u001b[0m \u001b[0mname\u001b[0m\u001b[0;34m)\u001b[0m\u001b[0;34m\u001b[0m\u001b[0;34m\u001b[0m\u001b[0m\n\u001b[0m\u001b[1;32m   3018\u001b[0m     \u001b[0;32mexcept\u001b[0m \u001b[0m_core\u001b[0m\u001b[0;34m.\u001b[0m\u001b[0m_FallbackException\u001b[0m\u001b[0;34m:\u001b[0m\u001b[0;34m\u001b[0m\u001b[0;34m\u001b[0m\u001b[0m\n\u001b[1;32m   3019\u001b[0m       \u001b[0;32mpass\u001b[0m\u001b[0;34m\u001b[0m\u001b[0;34m\u001b[0m\u001b[0m\n",
            "\u001b[0;32m/usr/local/lib/python3.7/dist-packages/tensorflow/python/framework/ops.py\u001b[0m in \u001b[0;36mraise_from_not_ok_status\u001b[0;34m(e, name)\u001b[0m\n\u001b[1;32m   7162\u001b[0m \u001b[0;32mdef\u001b[0m \u001b[0mraise_from_not_ok_status\u001b[0m\u001b[0;34m(\u001b[0m\u001b[0me\u001b[0m\u001b[0;34m,\u001b[0m \u001b[0mname\u001b[0m\u001b[0;34m)\u001b[0m\u001b[0;34m:\u001b[0m\u001b[0;34m\u001b[0m\u001b[0;34m\u001b[0m\u001b[0m\n\u001b[1;32m   7163\u001b[0m   \u001b[0me\u001b[0m\u001b[0;34m.\u001b[0m\u001b[0mmessage\u001b[0m \u001b[0;34m+=\u001b[0m \u001b[0;34m(\u001b[0m\u001b[0;34m\" name: \"\u001b[0m \u001b[0;34m+\u001b[0m \u001b[0mname\u001b[0m \u001b[0;32mif\u001b[0m \u001b[0mname\u001b[0m \u001b[0;32mis\u001b[0m \u001b[0;32mnot\u001b[0m \u001b[0;32mNone\u001b[0m \u001b[0;32melse\u001b[0m \u001b[0;34m\"\"\u001b[0m\u001b[0;34m)\u001b[0m\u001b[0;34m\u001b[0m\u001b[0;34m\u001b[0m\u001b[0m\n\u001b[0;32m-> 7164\u001b[0;31m   \u001b[0;32mraise\u001b[0m \u001b[0mcore\u001b[0m\u001b[0;34m.\u001b[0m\u001b[0m_status_to_exception\u001b[0m\u001b[0;34m(\u001b[0m\u001b[0me\u001b[0m\u001b[0;34m)\u001b[0m \u001b[0;32mfrom\u001b[0m \u001b[0;32mNone\u001b[0m  \u001b[0;31m# pylint: disable=protected-access\u001b[0m\u001b[0;34m\u001b[0m\u001b[0;34m\u001b[0m\u001b[0m\n\u001b[0m\u001b[1;32m   7165\u001b[0m \u001b[0;34m\u001b[0m\u001b[0m\n\u001b[1;32m   7166\u001b[0m \u001b[0;34m\u001b[0m\u001b[0m\n",
            "\u001b[0;31mNotFoundError\u001b[0m: /content/wav/common_voice_sw_29914941.mp3.wav; No such file or directory\n\t [[{{node ReadFile}}]] [Op:IteratorGetNext]"
          ]
        },
        {
          "output_type": "display_data",
          "data": {
            "text/plain": [
              "<Figure size 576x360 with 0 Axes>"
            ]
          },
          "metadata": {}
        }
      ]
    },
    {
      "cell_type": "code",
      "source": [],
      "metadata": {
        "id": "Zg55jBHYh5pI"
      },
      "execution_count": null,
      "outputs": []
    }
  ]
}